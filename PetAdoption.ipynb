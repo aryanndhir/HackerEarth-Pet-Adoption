{
 "cells": [
  {
   "cell_type": "code",
   "execution_count": null,
   "metadata": {
    "colab": {},
    "colab_type": "code",
    "id": "5EjE36myjMZq"
   },
   "outputs": [],
   "source": [
    "import pandas as pd\n",
    "import numpy as np\n",
    "from sklearn.model_selection import train_test_split\n",
    "from sklearn.preprocessing import OneHotEncoder\n",
    "from sklearn import preprocessing\n",
    "from sklearn.svm import SVC\n",
    "from sklearn.model_selection import GridSearchCV\n",
    "from sklearn.metrics import f1_score\n",
    "from sklearn.model_selection import cross_val_score\n",
    "import matplotlib.pyplot as plt\n",
    "import xgboost as xgb"
   ]
  },
  {
   "cell_type": "code",
   "execution_count": null,
   "metadata": {
    "colab": {},
    "colab_type": "code",
    "id": "rSQSZ_O_qpDN"
   },
   "outputs": [],
   "source": [
    "df = pd.read_csv(\"train.csv\")\n",
    "\n",
    "df = df.rename(columns={\"length(m)\": \"length\", \"height(cm)\": \"height\"})"
   ]
  },
  {
   "cell_type": "code",
   "execution_count": null,
   "metadata": {
    "colab": {},
    "colab_type": "code",
    "id": "BPYvOHvOmp1D"
   },
   "outputs": [],
   "source": [
    "X = df.drop(['breed_category','pet_category', \"pet_id\"], axis=1)\n",
    "\n",
    "temp = X[\"listing_date\"]\n",
    "hh = []\n",
    "for i in temp:\n",
    "  time = i.split()\n",
    "  hours = time[1]\n",
    "  hour = hours.split(\":\")\n",
    "  if int(hour[1]) < 30:\n",
    "    hh.append(int(hour[0]))\n",
    "  elif int(hour[1]) >=30 and int(hour[0]) < 23:\n",
    "    hh.append(int(hour[0])+1)\n",
    "  elif int(hour[1]) >=30 and int(hour[0]) == 23:\n",
    "    hh.append(0)\n",
    "\n",
    "X[\"hours\"] = hh"
   ]
  },
  {
   "cell_type": "code",
   "execution_count": null,
   "metadata": {
    "colab": {},
    "colab_type": "code",
    "id": "qSW3KlWWUjmh"
   },
   "outputs": [],
   "source": [
    "X[\"issue_date\"] = pd.to_datetime(X[\"issue_date\"])\n",
    "X[\"listing_date\"] = pd.to_datetime(X[\"listing_date\"])\n",
    "X[\"duration\"] = (X[\"listing_date\"] - X[\"issue_date\"]).dt.days\n",
    "\n",
    "enc1 = OneHotEncoder()\n",
    "x = pd.DataFrame(enc1.fit_transform(X[['color_type']]).toarray())\n",
    "X = X.join(x)\n",
    "\n",
    "X[\"condition\"].fillna(3, inplace=True)\n",
    "X['condition'] = X['condition'].astype(int)\n",
    "\n",
    "X = X.drop(columns=[\"issue_date\", \"listing_date\",\"color_type\"])"
   ]
  },
  {
   "cell_type": "code",
   "execution_count": null,
   "metadata": {
    "colab": {},
    "colab_type": "code",
    "id": "7PzS4Kmz0Ivw"
   },
   "outputs": [],
   "source": [
    "x = [\"length\",\"height\",\"X1\",\"X2\"]\n",
    "scaler = preprocessing.StandardScaler()\n",
    "scaled_X = scaler.fit_transform(X[x])\n",
    "X[x] = pd.DataFrame(scaled_X, columns=x)"
   ]
  },
  {
   "cell_type": "code",
   "execution_count": null,
   "metadata": {
    "colab": {},
    "colab_type": "code",
    "id": "lp79o-yEEe6S"
   },
   "outputs": [],
   "source": [
    "df2 = pd.read_csv(\"test.csv\")\n",
    "\n",
    "df2 = df2.rename(columns={\"length(m)\": \"length\", \"height(cm)\": \"height\"})"
   ]
  },
  {
   "cell_type": "code",
   "execution_count": null,
   "metadata": {
    "colab": {},
    "colab_type": "code",
    "id": "hEc0YVn6nVSg"
   },
   "outputs": [],
   "source": [
    "X2 = df2.drop([\"pet_id\"], axis=1)\n",
    "\n",
    "temp = X2[\"listing_date\"]\n",
    "hh = []\n",
    "for i in temp:\n",
    "  time = i.split()\n",
    "  hours = time[1]\n",
    "  hour = hours.split(\":\")\n",
    "  if int(hour[1]) < 30:\n",
    "    hh.append(int(hour[0]))\n",
    "  elif int(hour[1]) >=30 and int(hour[0]) < 23:\n",
    "    hh.append(int(hour[0])+1)\n",
    "  elif int(hour[1]) >=30 and int(hour[0]) == 23:\n",
    "    hh.append(0)\n",
    "\n",
    "X2[\"hours\"] = hh"
   ]
  },
  {
   "cell_type": "code",
   "execution_count": null,
   "metadata": {
    "colab": {},
    "colab_type": "code",
    "id": "DtgQ9vNOU4NM"
   },
   "outputs": [],
   "source": [
    "\n",
    "X2[\"issue_date\"] = pd.to_datetime(X2[\"issue_date\"])\n",
    "X2[\"listing_date\"] = pd.to_datetime(X2[\"listing_date\"])\n",
    "X2[\"duration\"] = (X2[\"listing_date\"] - X2[\"issue_date\"]).dt.days\n",
    "\n",
    "enc2 = OneHotEncoder()\n",
    "x = pd.DataFrame(enc2.fit_transform(X2[['color_type']]).toarray())\n",
    "X2 = X2.join(x)\n",
    "\n",
    "X2[\"condition\"].fillna(3, inplace=True)\n",
    "X2['condition'] = X2['condition'].astype(int)\n",
    "\n",
    "X2 = X2.drop(columns=[\"issue_date\", \"listing_date\",\"color_type\"])"
   ]
  },
  {
   "cell_type": "code",
   "execution_count": null,
   "metadata": {
    "colab": {},
    "colab_type": "code",
    "id": "Sjkw7WOPx0WA"
   },
   "outputs": [],
   "source": [
    "ll1, ll2, ll3 = [], [], []\n",
    "for i in enc1.categories_:\n",
    "  for j in i:\n",
    "    ll1.append(j)\n",
    "\n",
    "for i in enc2.categories_:\n",
    "  for j in i:\n",
    "    ll2.append(j)\n",
    "\n",
    "for i in ll1:\n",
    "  if i not in ll2:\n",
    "    ll3.append(i)\n",
    "    \n",
    "X = X.drop(columns=[6,19])"
   ]
  },
  {
   "cell_type": "code",
   "execution_count": null,
   "metadata": {
    "colab": {},
    "colab_type": "code",
    "id": "OfwyJiKwxzeZ"
   },
   "outputs": [],
   "source": [
    "x = [\"length\",\"height\",\"X1\",\"X2\"]\n",
    "\n",
    "scaler = preprocessing.StandardScaler()\n",
    "scaled_X = scaler.fit_transform(X2[x])\n",
    "X2[x] = pd.DataFrame(scaled_X, columns=x)"
   ]
  },
  {
   "cell_type": "code",
   "execution_count": null,
   "metadata": {
    "colab": {},
    "colab_type": "code",
    "id": "wlu-cNPpzgYI"
   },
   "outputs": [],
   "source": [
    "def range_part(column,value):\n",
    "    if value > info.loc[4,column]:\n",
    "        return 5\n",
    "    elif value > info.loc[2,column]:\n",
    "        return 4\n",
    "    elif value > info.loc[1,column]:\n",
    "        return 3\n",
    "    elif value > info.loc[0,column]:\n",
    "        return 2\n",
    "    elif value > info.loc[3,column]:\n",
    "        return 1\n",
    "    else:\n",
    "        return 0"
   ]
  },
  {
   "cell_type": "code",
   "execution_count": null,
   "metadata": {
    "colab": {},
    "colab_type": "code",
    "id": "yWLvERkozJD6"
   },
   "outputs": [],
   "source": [
    "info = pd.DataFrame()\n",
    "info['length'] = [np.percentile(X['length'],25*i) for i in range(1,4)]\n",
    "info['height'] = [np.percentile(X['height'],25*i) for i in range(1,4)]\n",
    "info['duration'] = [np.percentile(X['duration'],25*i) for i in range(1,4)]\n",
    "info.loc[3] = [2.5*info.loc[0,column] - 1.5*info.loc[2,column] for column in info.columns]\n",
    "info.loc[4] = [2.5*info.loc[2,column] - 1.5*info.loc[0,column] for column in info.columns]"
   ]
  },
  {
   "cell_type": "code",
   "execution_count": null,
   "metadata": {
    "colab": {},
    "colab_type": "code",
    "id": "7u0dv5MZzjD6"
   },
   "outputs": [],
   "source": [
    "from tqdm import tqdm\n",
    "tqdm.pandas()\n",
    "X['length_range'] = X['length'].progress_apply(lambda x:range_part('length',x))\n",
    "X['height_range'] = X['height'].progress_apply(lambda x:range_part('height',x))\n",
    "X['duration_range'] = X['duration'].progress_apply(lambda x:range_part('duration',x))\n",
    "\n",
    "X2['length_range'] = X2['length'].progress_apply(lambda x:range_part('length',x))\n",
    "X2['height_range'] = X2['height'].progress_apply(lambda x:range_part('height',x))\n",
    "X2['duration_range'] = X2['duration'].progress_apply(lambda x:range_part('duration',x))"
   ]
  },
  {
   "cell_type": "code",
   "execution_count": null,
   "metadata": {
    "colab": {},
    "colab_type": "code",
    "id": "bqSpx-Itqqqo"
   },
   "outputs": [],
   "source": [
    "y1 = df[\"breed_category\"]\n",
    "y2 = df[\"pet_category\"]\n",
    "\n",
    "y = df[[\"breed_category\", \"pet_category\"]]\n",
    "X_train, X_test, y_train, y_test = train_test_split(X, y, random_state=0)\n",
    "\n",
    "y_train1 = y_train[\"breed_category\"]\n",
    "y_train2 = y_train[\"pet_category\"]\n",
    "\n",
    "y_test1 = y_test[\"breed_category\"]\n",
    "y_test2 = y_test[\"pet_category\"]"
   ]
  },
  {
   "cell_type": "code",
   "execution_count": null,
   "metadata": {
    "colab": {},
    "colab_type": "code",
    "id": "leEcMxB4wStJ"
   },
   "outputs": [],
   "source": [
    "corr = X.corr()\n",
    "fig = plt.figure()\n",
    "ax = fig.add_subplot(111)\n",
    "cax = ax.matshow(corr,cmap='coolwarm', vmin=-1, vmax=1)\n",
    "fig.colorbar(cax)\n",
    "ticks = np.arange(0,len(X.columns),1)\n",
    "ax.set_xticks(ticks)\n",
    "plt.xticks(rotation=90)\n",
    "ax.set_yticks(ticks)\n",
    "ax.set_xticklabels(X.columns)\n",
    "ax.set_yticklabels(X.columns)\n",
    "plt.show()"
   ]
  },
  {
   "cell_type": "markdown",
   "metadata": {
    "colab_type": "text",
    "id": "TZ-8vPywpB5e"
   },
   "source": [
    "#SVC"
   ]
  },
  {
   "cell_type": "code",
   "execution_count": null,
   "metadata": {
    "colab": {},
    "colab_type": "code",
    "id": "KfCqZi_Zgeu9"
   },
   "outputs": [],
   "source": [
    "clf1 = SVC(C=10,gamma=10, kernel=\"rbf\")\n",
    "ypred1 = clf1.predict(X)\n",
    "s1 = f1_score(y1, ypred1, average=\"weighted\")"
   ]
  },
  {
   "cell_type": "code",
   "execution_count": null,
   "metadata": {
    "colab": {},
    "colab_type": "code",
    "id": "88anVsOPt4Oo"
   },
   "outputs": [],
   "source": [
    "clf2 = SVC(C=10,gamma=10, kernel=\"rbf\").fit(X, y2)\n",
    "ypred2 = clf2.predict(X)\n",
    "s2 = f1_score(y2, ypred2, average=\"weighted\")"
   ]
  },
  {
   "cell_type": "code",
   "execution_count": null,
   "metadata": {
    "colab": {},
    "colab_type": "code",
    "id": "lN8gAcbht6_V"
   },
   "outputs": [],
   "source": [
    "scores = cross_val_score(clf1, X, y2, cv=5, scoring=\"f1_weighted\")\n",
    "print(scores)\n",
    "\n",
    "score = 100 * (s1+s2) / 2\n",
    "print(s1,s2)\n",
    "print(\"Training f1 score: \", score)"
   ]
  },
  {
   "cell_type": "code",
   "execution_count": null,
   "metadata": {
    "colab": {},
    "colab_type": "code",
    "id": "XW2-bt4d-jfm"
   },
   "outputs": [],
   "source": [
    "# ypred1 = clf1.predict(X_train)\n",
    "# s1 = f1_score(y_train1, ypred1, average=\"weighted\")\n",
    "# ypred2 = clf2.predict(X_train)\n",
    "# s2 = f1_score(y_train2, ypred2, average=\"weighted\")\n",
    "0.9138437651219301 0.8973397476796859\n",
    "Training f1 score:  90.55917564008081"
   ]
  },
  {
   "cell_type": "code",
   "execution_count": null,
   "metadata": {
    "colab": {},
    "colab_type": "code",
    "id": "Ouojo5g6E2Q1"
   },
   "outputs": [],
   "source": [
    "X2 = df2.drop(columns=[\"pet_id\"])\n",
    "ypred11 = clf1.predict(X2)\n",
    "ypred22 = clf2.predict(X2)"
   ]
  },
  {
   "cell_type": "code",
   "execution_count": null,
   "metadata": {
    "colab": {},
    "colab_type": "code",
    "id": "EOVe8ocyhDY0"
   },
   "outputs": [],
   "source": [
    "submission = pd.DataFrame({\"pet_id\": df2[\"pet_id\"], \"breed_category\": ypred11, \"pet_category\": ypred22})\n",
    "print(submission.shape)\n",
    "submission.to_csv(\"submission.csv\", index=False)"
   ]
  },
  {
   "cell_type": "markdown",
   "metadata": {
    "colab_type": "text",
    "id": "oahTtQqAJ7EY"
   },
   "source": [
    "#XGBoost"
   ]
  },
  {
   "cell_type": "code",
   "execution_count": null,
   "metadata": {
    "colab": {},
    "colab_type": "code",
    "id": "m266zjT9I0fE"
   },
   "outputs": [],
   "source": [
    "# D_train1 = xgb.DMatrix(X, label=y1)\n",
    "# D_train2 = xgb.DMatrix(X, label=y2)\n",
    "# D_test1 = xgb.DMatrix(X_test, label=y_test1)\n",
    "# D_test2 = xgb.DMatrix(X_test, label=y_test2)\n",
    "\n",
    "# param1 = {\n",
    "#     'eta': 0.3, \n",
    "#     'max_depth': 6,\n",
    "#     \"gamma\": 0.1,\n",
    "#     'objective': 'multi:softmax',\n",
    "#     \"nthread\": 5,\n",
    "#     # \"lambda\": 20,\n",
    "#     # \"alpha\": 0.1,\n",
    "#     \"eval_metric\": \"mlogloss\",\n",
    "#     'num_class': 5} \n",
    "\n",
    "# param2 = {\n",
    "#     'eta': 0.3, \n",
    "#     'max_depth': 6,\n",
    "#     \"gamma\": 0.01,  \n",
    "#     # \"lambda\": 10,\n",
    "#     # \"alpha\": 0.1,\n",
    "#     'objective': 'multi:softmax',\n",
    "#     \"eval_metric\": \"mlogloss\",  \n",
    "#     'num_class': 5} \n",
    "\n",
    "# steps = 20 \n",
    "\n",
    "# model1 = xgb.train(param1, D_train1, steps)\n",
    "# model2 = xgb.train(param2, D_train2, steps)\n",
    "\n",
    "model1 = xgb.XGBClassifier(learning_rate=0.1,  \n",
    "                      objective='multi:softmax', \n",
    "                      n_estimators=1000,\n",
    "                      gamma=10,\n",
    "                      max_depth=6).fit(X,y1) \n",
    "\n",
    "model2 = xgb.XGBClassifier(learning_rate=0.1,  \n",
    "                      objective='multi:softmax', \n",
    "                      n_estimators=1000,\n",
    "                      gamma=10, \n",
    "                      max_depth=6).fit(X,y2)"
   ]
  },
  {
   "cell_type": "code",
   "execution_count": null,
   "metadata": {
    "colab": {},
    "colab_type": "code",
    "id": "-wvdqevJJVK0"
   },
   "outputs": [],
   "source": [
    "train_preds1 = model1.predict(X)\n",
    "train_preds2 = model2.predict(X)\n",
    "\n",
    "s1 = f1_score(y1, train_preds1, average=\"weighted\")\n",
    "s2 = f1_score(y2, train_preds2, average=\"weighted\")\n",
    "score = 100 * (s1+s2) / 2\n",
    "print(s1,s2)\n",
    "print(\"Training f1 score: \", score)"
   ]
  },
  {
   "cell_type": "code",
   "execution_count": null,
   "metadata": {
    "colab": {},
    "colab_type": "code",
    "id": "SoecWXUovVL6"
   },
   "outputs": [],
   "source": [
    "pd.DataFrame(preds1, columns=['Value'])['Value'].value_counts().plot(kind='barh')"
   ]
  },
  {
   "cell_type": "code",
   "execution_count": null,
   "metadata": {
    "colab": {},
    "colab_type": "code",
    "id": "NeVT2Osbudbs"
   },
   "outputs": [],
   "source": [
    "test_preds1 = model1.predict(X2)\n",
    "test_preds2 = model2.predict(X2)\n",
    "\n",
    "# s1 = f1_score(y_test1, preds1, average=\"weighted\")\n",
    "# s2 = f1_score(y_test2, preds2, average=\"weighted\")\n",
    "# score = 100 * (s1+s2) / 2\n",
    "# print(s1,s2)\n",
    "# print(\"Test f1 score: \", score)\n",
    "\n",
    "# pd.DataFrame(test_preds1, columns=['Value'])['Value'].value_counts().plot(kind='barh')"
   ]
  },
  {
   "cell_type": "code",
   "execution_count": null,
   "metadata": {
    "colab": {},
    "colab_type": "code",
    "id": "1kKlvzLJVLzK"
   },
   "outputs": [],
   "source": [
    "# D_train3 = xgb.DMatrix(X2)\n",
    "\n",
    "ypred11 = model1.predict(X2)\n",
    "ypred22 = model2.predict(X2)"
   ]
  },
  {
   "cell_type": "code",
   "execution_count": null,
   "metadata": {
    "colab": {},
    "colab_type": "code",
    "id": "J0nR1dydVmQE"
   },
   "outputs": [],
   "source": [
    "submission = pd.DataFrame({\"pet_id\": df2[\"pet_id\"], \"breed_category\": ypred11, \"pet_category\": ypred22})\n",
    "print(submission.shape)\n",
    "submission.to_csv(\"submission.csv\", index=False)"
   ]
  },
  {
   "cell_type": "markdown",
   "metadata": {
    "colab_type": "text",
    "id": "jCCSZSlJ8WFh"
   },
   "source": [
    "#LGBM"
   ]
  },
  {
   "cell_type": "code",
   "execution_count": 44,
   "metadata": {
    "colab": {},
    "colab_type": "code",
    "id": "lxFxyu0t8YZ1"
   },
   "outputs": [],
   "source": [
    "from lightgbm import LGBMClassifier\n",
    "from sklearn.model_selection import RandomizedSearchCV\n",
    "from scipy.stats import uniform as sp_uniform\n",
    "from scipy.stats import randint as sp_randint\n",
    "\n",
    "lgb1 = LGBMClassifier(\n",
    "    reg_lambda=57,\n",
    "    refit=True,\n",
    "    # reg_alpha=10,\n",
    "    # learning_rate=0.1,\n",
    "    max_depth=-1,\n",
    "    n_estimators=200).fit(X,y1)\n",
    "\n",
    "lgb2 = LGBMClassifier(\n",
    "    # reg_lambda=0.1,\n",
    "    # reg_alpha=0.01,\n",
    "    learning_rate=0.1,\n",
    "    refit=True,\n",
    "    n_estimators=200).fit(X,y2)\n",
    "\n",
    "# param_test ={'num_leaves': sp_randint(6, 50), \n",
    "#              'min_child_samples': sp_randint(100, 500), \n",
    "#              'min_child_weight': [1e-5, 1e-3, 1e-2, 1e-1, 1, 1e1, 1e2, 1e3, 1e4],\n",
    "#              'subsample': sp_uniform(loc=0.2, scale=0.8), \n",
    "#              'colsample_bytree': sp_uniform(loc=0.4, scale=0.6),\n",
    "#              'reg_alpha': [40,42,44,56,57, 50, 60, 55],\n",
    "#              'reg_lambda': [10,12,13, 15, 20,25],\n",
    "#               'max_depth': [1,2,3,4,5,10,-1]}\n",
    "\n",
    "# clf1 = RandomizedSearchCV(lgb1, param_test, random_state=0)\n",
    "# clf2 = RandomizedSearchCV(lgb2, param_test, random_state=0)\n",
    "\n",
    "# search1 = clf1.fit(X,y1)\n",
    "# search2 = clf2.fit(X,y2)\n",
    "\n",
    "# print(search1.best_params_)\n",
    "# print(search2.best_params_)"
   ]
  },
  {
   "cell_type": "code",
   "execution_count": 45,
   "metadata": {
    "colab": {
     "base_uri": "https://localhost:8080/",
     "height": 51
    },
    "colab_type": "code",
    "id": "Ki1jMsU_9XR3",
    "outputId": "67080b75-e896-4351-d79f-6eaab5fe290b"
   },
   "outputs": [
    {
     "name": "stdout",
     "output_type": "stream",
     "text": [
      "0.9582441309147597 0.9442032675688672\n",
      "Training f1 score:  95.12236992418136\n"
     ]
    }
   ],
   "source": [
    "train_preds1 = lgb1.predict(X)\n",
    "train_preds2 = lgb2.predict(X)\n",
    "\n",
    "s1 = f1_score(y1, train_preds1, average=\"weighted\")\n",
    "s2 = f1_score(y2, train_preds2, average=\"weighted\")\n",
    "score = 100 * (s1+s2) / 2\n",
    "print(s1,s2)\n",
    "print(\"Training f1 score: \", score)"
   ]
  },
  {
   "cell_type": "code",
   "execution_count": 46,
   "metadata": {
    "colab": {},
    "colab_type": "code",
    "id": "-VkJhM2P9fy8"
   },
   "outputs": [],
   "source": [
    "ypred11 = lgb1.predict(X2)\n",
    "ypred22 = lgb2.predict(X2)"
   ]
  },
  {
   "cell_type": "code",
   "execution_count": 47,
   "metadata": {
    "colab": {
     "base_uri": "https://localhost:8080/",
     "height": 34
    },
    "colab_type": "code",
    "id": "7WkIWQl99gwE",
    "outputId": "053111e4-a25a-4a43-85d1-2fb1f23cbccd"
   },
   "outputs": [
    {
     "name": "stdout",
     "output_type": "stream",
     "text": [
      "(8072, 3)\n"
     ]
    }
   ],
   "source": [
    "submission = pd.DataFrame({\"pet_id\": df2[\"pet_id\"], \"breed_category\": ypred11, \"pet_category\": ypred22})\n",
    "print(submission.shape)\n",
    "submission.to_csv(\"submission3.csv\", index=False)"
   ]
  },
  {
   "cell_type": "markdown",
   "metadata": {
    "colab_type": "text",
    "id": "7wFIt67p8Q-l"
   },
   "source": [
    "#Random Forest"
   ]
  },
  {
   "cell_type": "code",
   "execution_count": null,
   "metadata": {
    "colab": {},
    "colab_type": "code",
    "id": "iUS2Irzf8Yos"
   },
   "outputs": [],
   "source": [
    "from sklearn.ensemble import RandomForestClassifier\n",
    "\n",
    "model1 = RandomForestClassifier(n_estimators=1000, max_depth=10, random_state=0).fit(X, y1)\n",
    "\n",
    "model2 = RandomForestClassifier(n_estimators=1000, max_depth=10, random_state=0).fit(X, y2)"
   ]
  },
  {
   "cell_type": "code",
   "execution_count": null,
   "metadata": {
    "colab": {},
    "colab_type": "code",
    "id": "406UiXsT8kJt"
   },
   "outputs": [],
   "source": [
    "train_preds1 = model1.predict(X)\n",
    "train_preds2 = model2.predict(X)\n",
    "\n",
    "s1 = f1_score(y1, train_preds1, average=\"weighted\")\n",
    "s2 = f1_score(y2, train_preds2, average=\"weighted\")\n",
    "score = 100 * (s1+s2) / 2\n",
    "print(s1,s2)\n",
    "print(\"Training f1 score: \", score)"
   ]
  },
  {
   "cell_type": "code",
   "execution_count": null,
   "metadata": {
    "colab": {},
    "colab_type": "code",
    "id": "vOULBx2q8sDR"
   },
   "outputs": [],
   "source": [
    "ypred11 = model1.predict(X2)\n",
    "ypred22 = model2.predict(X2)"
   ]
  },
  {
   "cell_type": "code",
   "execution_count": null,
   "metadata": {
    "colab": {},
    "colab_type": "code",
    "id": "V0K7_v_p8wVy"
   },
   "outputs": [],
   "source": [
    "submission = pd.DataFrame({\"pet_id\": df2[\"pet_id\"], \"breed_category\": ypred11, \"pet_category\": ypred22})\n",
    "print(submission.shape)\n",
    "submission.to_csv(\"submission10.csv\", index=False)"
   ]
  }
 ],
 "metadata": {
  "colab": {
   "collapsed_sections": [
    "TZ-8vPywpB5e",
    "oahTtQqAJ7EY",
    "7wFIt67p8Q-l"
   ],
   "name": "PetAdoption.ipynb",
   "provenance": [],
   "toc_visible": true
  },
  "kernelspec": {
   "display_name": "Python 3",
   "language": "python",
   "name": "python3"
  },
  "language_info": {
   "codemirror_mode": {
    "name": "ipython",
    "version": 3
   },
   "file_extension": ".py",
   "mimetype": "text/x-python",
   "name": "python",
   "nbconvert_exporter": "python",
   "pygments_lexer": "ipython3",
   "version": "3.7.6"
  }
 },
 "nbformat": 4,
 "nbformat_minor": 1
}
